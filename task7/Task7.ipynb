{
  "nbformat": 4,
  "nbformat_minor": 0,
  "metadata": {
    "colab": {
      "provenance": []
    },
    "kernelspec": {
      "name": "python3",
      "display_name": "Python 3"
    },
    "language_info": {
      "name": "python"
    }
  },
  "cells": [
    {
      "cell_type": "code",
      "execution_count": 1,
      "metadata": {
        "colab": {
          "base_uri": "https://localhost:8080/"
        },
        "id": "Y7rS_6Fdg0Bs",
        "outputId": "066be51c-3202-4a85-a8c6-87ecf72f5319"
      },
      "outputs": [
        {
          "output_type": "stream",
          "name": "stdout",
          "text": [
            "📊 Monthly Sales Summary:\n",
            "   year  month  monthly_revenue  order_volume\n",
            "0  2020      1        887759.38           744\n",
            "1  2020      2        835370.57           696\n",
            "2  2020      3        883590.61           744\n",
            "3  2020      4        908070.20           720\n",
            "4  2020      5        880173.19           744\n",
            "5  2020      6        855703.77           720\n",
            "6  2020      7        866688.11           744\n",
            "7  2020      8        883435.27           744\n",
            "8  2020      9        898178.26           720\n",
            "9  2020     10        865361.85           744\n",
            "\n",
            "📊 Monthly Sales Summary for 2023:\n",
            "    year  month  monthly_revenue  order_volume\n",
            "36  2023      1        898282.57           744\n",
            "37  2023      2        788567.55           672\n",
            "38  2023      3        909183.84           744\n",
            "39  2023      4        841106.76           719\n",
            "40  2023      5        875306.19           744\n",
            "41  2023      6        824705.85           720\n",
            "42  2023      7        881253.92           743\n",
            "43  2023      8        871524.21           743\n",
            "44  2023      9        866413.09           720\n",
            "45  2023     10        908316.83           744\n",
            "46  2023     11        895198.07           719\n",
            "47  2023     12        932367.67           744\n",
            "\n",
            "🔥 Top 3 Months by Revenue:\n",
            "    year  month  monthly_revenue  order_volume\n",
            "55  2024      8        939835.08           744\n",
            "33  2022     10        937969.39           744\n",
            "47  2023     12        932367.67           744\n",
            "\n",
            "🔥 Top 3 Months by Order Volume:\n",
            "   year  month  monthly_revenue  order_volume\n",
            "0  2020      1        887759.38           744\n",
            "2  2020      3        883590.61           744\n",
            "4  2020      5        880173.19           744\n"
          ]
        }
      ],
      "source": [
        "import pandas as pd\n",
        "\n",
        "# Load dataset (upload your CSV in Colab first)\n",
        "file_path = \"online_sales_dataset.csv\"  # change path if needed\n",
        "df = pd.read_csv(file_path)\n",
        "\n",
        "# Convert InvoiceDate to datetime\n",
        "df['InvoiceDate'] = pd.to_datetime(df['InvoiceDate'], errors='coerce')\n",
        "\n",
        "# Calculate revenue\n",
        "df['Revenue'] = df['Quantity'] * df['UnitPrice']\n",
        "\n",
        "# 1. Monthly Revenue and Order Volume\n",
        "monthly_summary = df.groupby([df['InvoiceDate'].dt.year.rename('year'),\n",
        "                              df['InvoiceDate'].dt.month.rename('month')]).agg(\n",
        "    monthly_revenue=('Revenue', 'sum'),\n",
        "    order_volume=('InvoiceNo', 'nunique')\n",
        ").reset_index()\n",
        "\n",
        "print(\"📊 Monthly Sales Summary:\")\n",
        "print(monthly_summary.head(10))  # first 10 rows\n",
        "\n",
        "# 2. Monthly Revenue and Order Volume for 2023\n",
        "monthly_2023 = monthly_summary[monthly_summary['year'] == 2023]\n",
        "print(\"\\n📊 Monthly Sales Summary for 2023:\")\n",
        "print(monthly_2023)\n",
        "\n",
        "# 3. Top 3 Months by Revenue\n",
        "top3_revenue = monthly_summary.sort_values(by='monthly_revenue', ascending=False).head(3)\n",
        "print(\"\\n🔥 Top 3 Months by Revenue:\")\n",
        "print(top3_revenue)\n",
        "\n",
        "# 4. Top 3 Months by Order Volume\n",
        "top3_volume = monthly_summary.sort_values(by='order_volume', ascending=False).head(3)\n",
        "print(\"\\n🔥 Top 3 Months by Order Volume:\")\n",
        "print(top3_volume)\n",
        "\n",
        "\n"
      ]
    }
  ]
}